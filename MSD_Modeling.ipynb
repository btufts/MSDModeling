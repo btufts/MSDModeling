{
 "cells": [
  {
   "cell_type": "markdown",
   "metadata": {
    "application/vnd.databricks.v1+cell": {
     "inputWidgets": {},
     "nuid": "3867f4ce-7b80-4976-9198-e1cfa31e90dc",
     "showTitle": false,
     "title": ""
    },
    "id": "cOnNoPPlbGOd"
   },
   "source": [
    "# Machine Learning with Large Datasets\n",
    "## Modeling with the Million Songs Database using AWS and Spark"
   ]
  },
  {
   "cell_type": "markdown",
   "metadata": {
    "application/vnd.databricks.v1+cell": {
     "inputWidgets": {},
     "nuid": "4cedccf5-c707-442c-be0e-56922d3a080f",
     "showTitle": false,
     "title": ""
    },
    "id": "IdgzxKxwbGOh"
   },
   "source": [
    "Million songs data is stored in an S3 bucket already. This file will be run on an AWS Elastic MapReduce instance.\n",
    "\n",
    "### 0. Start a Spark Session and Install Libraries"
   ]
  },
  {
   "cell_type": "code",
   "execution_count": 1,
   "metadata": {
    "application/vnd.databricks.v1+cell": {
     "inputWidgets": {},
     "nuid": "484df638-6b78-47fe-b9d3-0d08c79398e5",
     "showTitle": false,
     "title": ""
    },
    "id": "EQrVmpuIbGOh"
   },
   "outputs": [
    {
     "name": "stdout",
     "output_type": "stream",
     "text": [
      "Starting Spark application\n"
     ]
    },
    {
     "data": {
      "text/html": [
       "<table>\n",
       "<tr><th>ID</th><th>YARN Application ID</th><th>Kind</th><th>State</th><th>Spark UI</th><th>Driver log</th><th>User</th><th>Current session?</th></tr><tr><td>0</td><td>application_1710798701121_0001</td><td>pyspark</td><td>idle</td><td><a target=\"_blank\" href=\"http://ip-172-31-13-186.ec2.internal:20888/proxy/application_1710798701121_0001/\">Link</a></td><td><a target=\"_blank\" href=\"http://ip-172-31-5-50.ec2.internal:8042/node/containerlogs/container_1710798701121_0001_01_000001/livy\">Link</a></td><td>None</td><td>✔</td></tr></table>"
      ],
      "text/plain": [
       "<IPython.core.display.HTML object>"
      ]
     },
     "metadata": {},
     "output_type": "display_data"
    },
    {
     "data": {
      "application/vnd.jupyter.widget-view+json": {
       "model_id": "",
       "version_major": 2,
       "version_minor": 0
      },
      "text/plain": [
       "FloatProgress(value=0.0, bar_style='info', description='Progress:', layout=Layout(height='25px', width='50%'),…"
      ]
     },
     "metadata": {},
     "output_type": "display_data"
    },
    {
     "name": "stdout",
     "output_type": "stream",
     "text": [
      "SparkSession available as 'spark'.\n"
     ]
    },
    {
     "data": {
      "application/vnd.jupyter.widget-view+json": {
       "model_id": "",
       "version_major": 2,
       "version_minor": 0
      },
      "text/plain": [
       "FloatProgress(value=0.0, bar_style='info', description='Progress:', layout=Layout(height='25px', width='50%'),…"
      ]
     },
     "metadata": {},
     "output_type": "display_data"
    },
    {
     "name": "stdout",
     "output_type": "stream",
     "text": [
      "num executors: 1"
     ]
    }
   ],
   "source": [
    "# You are highly recommended to select the \"PySpark\" kernel instead of python kernel,\n",
    "# Otherwise you need to modify this cell to get pyspark working.\n",
    "\n",
    "from pyspark.sql import *\n",
    "\n",
    "sc = spark.sparkContext\n",
    "print(f'num executors: {sc.getConf().get(\"spark.executor.instances\")}')"
   ]
  },
  {
   "cell_type": "code",
   "execution_count": 2,
   "metadata": {
    "application/vnd.databricks.v1+cell": {
     "inputWidgets": {},
     "nuid": "488f21b7-f54a-45e0-8dc7-00e8c5577a44",
     "showTitle": false,
     "title": ""
    },
    "id": "foQTxuvwbGOj"
   },
   "outputs": [
    {
     "data": {
      "application/vnd.jupyter.widget-view+json": {
       "model_id": "",
       "version_major": 2,
       "version_minor": 0
      },
      "text/plain": [
       "FloatProgress(value=0.0, bar_style='info', description='Progress:', layout=Layout(height='25px', width='50%'),…"
      ]
     },
     "metadata": {},
     "output_type": "display_data"
    },
    {
     "name": "stdout",
     "output_type": "stream",
     "text": [
      "'\\nNote : If you are having issues with your plots not showing, try running `%matplot plt` in a new code box after you have run the rest of the plotting code.\\n'"
     ]
    }
   ],
   "source": [
    "import matplotlib.pyplot as plt\n",
    "import numpy as np\n",
    "'''\n",
    "Note : If you are having issues with your plots not showing, try running `%matplot plt` in a new code box after you have run the rest of the plotting code.\n",
    "'''"
   ]
  },
  {
   "cell_type": "markdown",
   "metadata": {
    "application/vnd.databricks.v1+cell": {
     "inputWidgets": {},
     "nuid": "5dad8a9c-b4d3-4274-8521-27267223d7ef",
     "showTitle": false,
     "title": ""
    },
    "id": "AbkX3VxWbGOj"
   },
   "source": [
    "### 1. Data Loading and Preparation\n",
    "\n",
    "Earlier, we have extracted relevant features from and converted format of the full raw Million Song Dataset. We now want to load our converted dataset from the S3 Storage.\n",
    "\n",
    "Note that although you can load all chunks of the dataset using `*`, we recommend you only load in a subset while developing so that processing takes shorter time when you are just verifying your ideas. Be sure to add your own S3 bucket name to cmd 8."
   ]
  },
  {
   "cell_type": "code",
   "execution_count": 3,
   "metadata": {
    "application/vnd.databricks.v1+cell": {
     "inputWidgets": {},
     "nuid": "714d2f77-a394-477b-a40a-62f6b2536eae",
     "showTitle": false,
     "title": ""
    },
    "id": "ZG5MFx3VbGOk"
   },
   "outputs": [
    {
     "data": {
      "application/vnd.jupyter.widget-view+json": {
       "model_id": "",
       "version_major": 2,
       "version_minor": 0
      },
      "text/plain": [
       "FloatProgress(value=0.0, bar_style='info', description='Progress:', layout=Layout(height='25px', width='50%'),…"
      ]
     },
     "metadata": {},
     "output_type": "display_data"
    }
   ],
   "source": [
    "from pyspark.sql.types import DoubleType, StringType, StructField, StructType\n",
    "\n",
    "schema = StructType([StructField('song_hotttnesss', DoubleType(), True),\n",
    "                       StructField('artist_familiarity', DoubleType(), True),\n",
    "                       StructField('artist_hotttnesss', DoubleType(), True),\n",
    "                       StructField('artist_id', StringType(), True),\n",
    "                       StructField('artist_latitude', DoubleType(), True),\n",
    "                       StructField('artist_location', StringType(), True),\n",
    "                       StructField('artist_longitude', DoubleType(), True),\n",
    "                       StructField('artist_name', StringType(), True),\n",
    "                       StructField('title', StringType(), True),\n",
    "                       StructField('danceability', DoubleType(), True),\n",
    "                       StructField('duration', DoubleType(), True),\n",
    "                       StructField('end_of_fade_in', DoubleType(), True),\n",
    "                       StructField('energy', DoubleType(), True),\n",
    "                       StructField('key', DoubleType(), True),\n",
    "                       StructField('key_confidence', DoubleType(), True),\n",
    "                       StructField('loudness', DoubleType(), True),\n",
    "                       StructField('mode', DoubleType(), True),\n",
    "                       StructField('mode_confidence', DoubleType(), True),\n",
    "                       StructField('start_of_fade_out', DoubleType(), True),\n",
    "                       StructField('tempo', DoubleType(), True),\n",
    "                       StructField('time_signature', DoubleType(), True),\n",
    "                       StructField('time_signature_confidence', DoubleType(), True),\n",
    "                       StructField('artist_terms', StringType(), True),\n",
    "                       StructField('artist_terms_freq', StringType(), True),\n",
    "                       StructField('artist_terms_weight', StringType(), True),\n",
    "                       StructField('year', DoubleType(), True)]\n",
    "                   )"
   ]
  },
  {
   "cell_type": "code",
   "execution_count": 4,
   "metadata": {
    "application/vnd.databricks.v1+cell": {
     "inputWidgets": {},
     "nuid": "f365d6b4-6a95-43ae-b4eb-7b4e87d6cee4",
     "showTitle": false,
     "title": ""
    },
    "id": "VkMM1pqSbGOl"
   },
   "outputs": [
    {
     "data": {
      "application/vnd.jupyter.widget-view+json": {
       "model_id": "",
       "version_major": 2,
       "version_minor": 0
      },
      "text/plain": [
       "FloatProgress(value=0.0, bar_style='info', description='Progress:', layout=Layout(height='25px', width='50%'),…"
      ]
     },
     "metadata": {},
     "output_type": "display_data"
    },
    {
     "name": "stdout",
     "output_type": "stream",
     "text": [
      "loaded 581965 records"
     ]
    }
   ],
   "source": [
    "#--------------------------------------------------------------------\n",
    "#Set to False after writing your code and run end-to-end on full data\n",
    "#--------------------------------------------------------------------\n",
    "load_subset = True\n",
    "#----------------------------\n",
    "#Add your s3 bucket name below:\n",
    "#----------------------------\n",
    "s3_bucket_name = ''\n",
    "\n",
    "if load_subset:\n",
    "    df = spark.read.format(\"csv\")\\\n",
    "        .option(\"header\", \"false\")\\\n",
    "        .option(\"nanValue\", \"nan\")\\\n",
    "        .option(\"quote\", \"\\\"\")\\\n",
    "        .option(\"escape\", \"\\\"\")\\\n",
    "        .schema(schema)\\\n",
    "        .load(f\"s3://{s3_bucket_name}/processed/A_1.csv\")\n",
    "else:\n",
    "    df = spark.read.format(\"csv\")\\\n",
    "        .option(\"header\", \"false\")\\\n",
    "        .option(\"nanValue\", \"nan\")\\\n",
    "        .option(\"quote\", \"\\\"\")\\\n",
    "        .option(\"escape\", \"\\\"\")\\\n",
    "        .schema(schema)\\\n",
    "        .load(f\"s3://{s3_bucket_name}/processed/*.csv\")\n",
    "\n",
    "print('loaded {} records'.format(df.count()))"
   ]
  },
  {
   "cell_type": "markdown",
   "metadata": {
    "application/vnd.databricks.v1+cell": {
     "inputWidgets": {},
     "nuid": "5906caef-3ef1-446f-a63a-fa74be25e03e",
     "showTitle": false,
     "title": ""
    },
    "id": "1AYyfx6mbGOm"
   },
   "source": [
    "Inspect the `df` we just created by running the below cell:"
   ]
  },
  {
   "cell_type": "code",
   "execution_count": 5,
   "metadata": {
    "application/vnd.databricks.v1+cell": {
     "inputWidgets": {},
     "nuid": "46627166-6d11-4c7a-a7eb-03943226ff03",
     "showTitle": false,
     "title": ""
    },
    "id": "87ggwTuMbGOm"
   },
   "outputs": [
    {
     "data": {
      "application/vnd.jupyter.widget-view+json": {
       "model_id": "",
       "version_major": 2,
       "version_minor": 0
      },
      "text/plain": [
       "FloatProgress(value=0.0, bar_style='info', description='Progress:', layout=Layout(height='25px', width='50%'),…"
      ]
     },
     "metadata": {},
     "output_type": "display_data"
    },
    {
     "name": "stdout",
     "output_type": "stream",
     "text": [
      "root\n",
      " |-- song_hotttnesss: double (nullable = true)\n",
      " |-- artist_familiarity: double (nullable = true)\n",
      " |-- artist_hotttnesss: double (nullable = true)\n",
      " |-- artist_id: string (nullable = true)\n",
      " |-- artist_latitude: double (nullable = true)\n",
      " |-- artist_location: string (nullable = true)\n",
      " |-- artist_longitude: double (nullable = true)\n",
      " |-- artist_name: string (nullable = true)\n",
      " |-- title: string (nullable = true)\n",
      " |-- danceability: double (nullable = true)\n",
      " |-- duration: double (nullable = true)\n",
      " |-- end_of_fade_in: double (nullable = true)\n",
      " |-- energy: double (nullable = true)\n",
      " |-- key: double (nullable = true)\n",
      " |-- key_confidence: double (nullable = true)\n",
      " |-- loudness: double (nullable = true)\n",
      " |-- mode: double (nullable = true)\n",
      " |-- mode_confidence: double (nullable = true)\n",
      " |-- start_of_fade_out: double (nullable = true)\n",
      " |-- tempo: double (nullable = true)\n",
      " |-- time_signature: double (nullable = true)\n",
      " |-- time_signature_confidence: double (nullable = true)\n",
      " |-- artist_terms: string (nullable = true)\n",
      " |-- artist_terms_freq: string (nullable = true)\n",
      " |-- artist_terms_weight: string (nullable = true)\n",
      " |-- year: double (nullable = true)"
     ]
    }
   ],
   "source": [
    "df.printSchema()"
   ]
  },
  {
   "cell_type": "markdown",
   "metadata": {
    "application/vnd.databricks.v1+cell": {
     "inputWidgets": {},
     "nuid": "3cebafaa-b3a9-4a1c-9118-42e9ec98a1da",
     "showTitle": false,
     "title": ""
    },
    "id": "jr6kvrk8bGOn"
   },
   "source": [
    "### 2. Exploratory Data Analysis\n",
    "\n",
    "Now we have our data mostly ready. It's a good time to take some deeper look to better understand what we are dealing with here."
   ]
  },
  {
   "cell_type": "code",
   "execution_count": 6,
   "metadata": {
    "application/vnd.databricks.v1+cell": {
     "inputWidgets": {},
     "nuid": "1933a481-773a-4eff-8c26-316d6c4b63f7",
     "showTitle": false,
     "title": ""
    },
    "id": "oQu9P_nfbGOn",
    "scrolled": true
   },
   "outputs": [
    {
     "data": {
      "application/vnd.jupyter.widget-view+json": {
       "model_id": "",
       "version_major": 2,
       "version_minor": 0
      },
      "text/plain": [
       "FloatProgress(value=0.0, bar_style='info', description='Progress:', layout=Layout(height='25px', width='50%'),…"
      ]
     },
     "metadata": {},
     "output_type": "display_data"
    },
    {
     "name": "stdout",
     "output_type": "stream",
     "text": [
      "+-------+-------------------+------------------+------------------+------------------+---------------+------------------+----------------+-----------+--------------------+------------+------------------+------------------+------+-----------------+-------------------+------------------+-------------------+-------------------+------------------+-----------------+-----------------+-------------------------+--------------------+-----------------+--------------------+------------------+\n",
      "|summary|    song_hotttnesss|artist_familiarity| artist_hotttnesss|         artist_id|artist_latitude|   artist_location|artist_longitude|artist_name|               title|danceability|          duration|    end_of_fade_in|energy|              key|     key_confidence|          loudness|               mode|    mode_confidence| start_of_fade_out|            tempo|   time_signature|time_signature_confidence|        artist_terms|artist_terms_freq| artist_terms_weight|              year|\n",
      "+-------+-------------------+------------------+------------------+------------------+---------------+------------------+----------------+-----------+--------------------+------------+------------------+------------------+------+-----------------+-------------------+------------------+-------------------+-------------------+------------------+-----------------+-----------------+-------------------------+--------------------+-----------------+--------------------+------------------+\n",
      "|  count|             581965|            581965|            581965|            581965|         581965|            312640|          581965|     581965|              581963|      581965|            581965|            581965|581965|           581965|             581965|            581965|             581965|             581965|            581965|           581965|           581965|                   581965|              581965|           581965|              581965|            581965|\n",
      "|   mean|0.35605103956148054|               NaN|0.3989411270241023|              null|            NaN|162.31768953068593|             NaN|   Infinity|                 NaN|         0.0| 247.4803460953149|0.8335579218681728|   0.0|5.316178808003918|0.44471833014012907|-9.705873464899124| 0.6650262472829122|0.47558113975926425| 238.3410747691017|124.6939834027817|3.615208818399732|       0.5190131227822977|                null|             null|                null|1190.3304253692233|\n",
      "| stddev|0.23444090117416483|               NaN|0.1126887362924463|              null|            NaN|203.07901692071235|             NaN|        NaN|                 NaN|         0.0|118.77363977981483| 3.434451678820453|   0.0|3.592772242009447|  0.276527566021239| 4.969266765337602|0.47198169508088633| 0.1923611066847665|116.63113061745929|34.97206548717258|1.199802825806909|       0.3703698293295391|                null|             null|                null|  981.474553503066|\n",
      "|    min|                0.0|               0.0|               0.0|AR002UA1187B9A637D|      -51.80058|                  |       -162.4365|        !!!|\u0018Ia \u0018Oe E Ka La \u0013...|         0.0|             0.522|               0.0|   0.0|              0.0|                0.0|           -58.178|                0.0|                0.0|             0.522|              0.0|              0.0|                      0.0|[\"rock 'n roll\", ...|       [0.0, 0.0]|[1.0, 0.219892937...|               0.0|\n",
      "|    25%|0.21508031850922793|0.5049333715085282|0.3528241940138724|              null|       43.64856|             100.0|       -61.67671|      311.0|                29.0|         0.0|         183.27465|               0.0|   0.0|              2.0|              0.216|           -12.148|                0.0|               0.36|           175.508|             98.5|              3.0|                    0.138|                null|             null|                null|               0.0|\n",
      "|    50%| 0.3775316449767025|0.5826998132118345|0.3994315443110678|              null|            NaN|             104.0|             NaN|      702.0|               415.0|         0.0|         230.00771|             0.194|   0.0|              5.0|              0.464|            -8.595|                1.0|              0.486|           220.682|          122.065|              4.0|                     0.56|                null|             null|                null|            1992.0|\n",
      "|    75%| 0.5319846094668594|0.6591286334605991|0.4560945961898251|              null|            NaN|             108.0|             NaN|     1919.0|              1980.0|         0.0|         286.14485|             0.425|   0.0|              9.0|              0.654|             -6.14|                1.0|              0.606|           275.615|          145.589|              4.0|                     0.87|                null|             null|                null|            2004.0|\n",
      "|    max|                1.0|               NaN|1.0825025567261237|ARZZZKG1271F573BC4|            NaN|  �tersund, Sweden|             NaN|        üNN|þetta Gerist á Be...|         0.0|        3032.58077|           991.359|   0.0|             11.0|                1.0|             4.318|                1.0|                1.0|          3030.622|          284.208|              7.0|                      1.0|                  []|               []|                  []|            2011.0|\n",
      "+-------+-------------------+------------------+------------------+------------------+---------------+------------------+----------------+-----------+--------------------+------------+------------------+------------------+------+-----------------+-------------------+------------------+-------------------+-------------------+------------------+-----------------+-----------------+-------------------------+--------------------+-----------------+--------------------+------------------+"
     ]
    }
   ],
   "source": [
    "df.summary().show()"
   ]
  },
  {
   "cell_type": "markdown",
   "metadata": {
    "application/vnd.databricks.v1+cell": {
     "inputWidgets": {},
     "nuid": "98330ff9-d36b-4384-b334-f8b6a6daea03",
     "showTitle": false,
     "title": ""
    },
    "id": "oJL6fIm9bGOn"
   },
   "source": [
    "Now we would like to make some histogram plots to inspect the distribution of feature values. "
   ]
  },
  {
   "cell_type": "code",
   "execution_count": 7,
   "metadata": {
    "application/vnd.databricks.v1+cell": {
     "inputWidgets": {},
     "nuid": "f50cf7a6-6c68-49a0-ac60-1fce85ede4a9",
     "showTitle": false,
     "title": ""
    },
    "id": "vLN7d7BhbGOo"
   },
   "outputs": [
    {
     "data": {
      "application/vnd.jupyter.widget-view+json": {
       "model_id": "",
       "version_major": 2,
       "version_minor": 0
      },
      "text/plain": [
       "FloatProgress(value=0.0, bar_style='info', description='Progress:', layout=Layout(height='25px', width='50%'),…"
      ]
     },
     "metadata": {},
     "output_type": "display_data"
    },
    {
     "data": {
      "image/png": "[encoded data removed]",
      "text/plain": [
       "<IPython.core.display.Image object>"
      ]
     },
     "metadata": {},
     "output_type": "display_data"
    }
   ],
   "source": [
    "plt.clf()\n",
    "plt.hist(df.select('song_hotttnesss').rdd.flatMap(lambda x: x).collect())\n",
    "plt.title('Counts of Song Hotttnesss vs Value')\n",
    "plt.xlabel('Song Hotttnesss')\n",
    "plt.ylabel('Count')\n",
    "%matplot plt"
   ]
  },
  {
   "cell_type": "code",
   "execution_count": 8,
   "metadata": {},
   "outputs": [
    {
     "data": {
      "application/vnd.jupyter.widget-view+json": {
       "model_id": "",
       "version_major": 2,
       "version_minor": 0
      },
      "text/plain": [
       "FloatProgress(value=0.0, bar_style='info', description='Progress:', layout=Layout(height='25px', width='50%'),…"
      ]
     },
     "metadata": {},
     "output_type": "display_data"
    },
    {
     "data": {
      "image/png": "[encoded data removed]",
      "text/plain": [
       "<IPython.core.display.Image object>"
      ]
     },
     "metadata": {},
     "output_type": "display_data"
    }
   ],
   "source": [
    "plt.clf()\n",
    "plt.hist(df.select('artist_familiarity').rdd.flatMap(lambda x: x).collect())\n",
    "plt.title('Count of Artist Familiarity')\n",
    "plt.xlabel('Artist Familiarity')\n",
    "plt.ylabel('Count')\n",
    "%matplot plt"
   ]
  },
  {
   "cell_type": "code",
   "execution_count": 9,
   "metadata": {},
   "outputs": [
    {
     "data": {
      "application/vnd.jupyter.widget-view+json": {
       "model_id": "",
       "version_major": 2,
       "version_minor": 0
      },
      "text/plain": [
       "FloatProgress(value=0.0, bar_style='info', description='Progress:', layout=Layout(height='25px', width='50%'),…"
      ]
     },
     "metadata": {},
     "output_type": "display_data"
    },
    {
     "data": {
      "image/png": "[encoded data removed]",
      "text/plain": [
       "<IPython.core.display.Image object>"
      ]
     },
     "metadata": {},
     "output_type": "display_data"
    }
   ],
   "source": [
    "plt.clf()\n",
    "plt.hist(df.select('artist_hotttnesss').rdd.flatMap(lambda x: x).collect())\n",
    "plt.title('Count of Artist Hotttnesss')\n",
    "plt.xlabel('Artist Hotttnesss')\n",
    "plt.ylabel('Count')\n",
    "%matplot plt"
   ]
  },
  {
   "cell_type": "code",
   "execution_count": 10,
   "metadata": {},
   "outputs": [
    {
     "data": {
      "application/vnd.jupyter.widget-view+json": {
       "model_id": "",
       "version_major": 2,
       "version_minor": 0
      },
      "text/plain": [
       "FloatProgress(value=0.0, bar_style='info', description='Progress:', layout=Layout(height='25px', width='50%'),…"
      ]
     },
     "metadata": {},
     "output_type": "display_data"
    },
    {
     "data": {
      "image/png": "[encoded data removed]",
      "text/plain": [
       "<IPython.core.display.Image object>"
      ]
     },
     "metadata": {},
     "output_type": "display_data"
    }
   ],
   "source": [
    "plt.clf()\n",
    "plt.hist(df.select('duration').rdd.flatMap(lambda x: x).collect())\n",
    "plt.title('Count of Duration')\n",
    "plt.xlabel('Duration')\n",
    "plt.ylabel('Count')\n",
    "%matplot plt"
   ]
  },
  {
   "cell_type": "code",
   "execution_count": 11,
   "metadata": {},
   "outputs": [
    {
     "data": {
      "application/vnd.jupyter.widget-view+json": {
       "model_id": "",
       "version_major": 2,
       "version_minor": 0
      },
      "text/plain": [
       "FloatProgress(value=0.0, bar_style='info', description='Progress:', layout=Layout(height='25px', width='50%'),…"
      ]
     },
     "metadata": {},
     "output_type": "display_data"
    },
    {
     "data": {
      "image/png": "[encoded data removed]",
      "text/plain": [
       "<IPython.core.display.Image object>"
      ]
     },
     "metadata": {},
     "output_type": "display_data"
    }
   ],
   "source": [
    "plt.clf()\n",
    "plt.hist(df.select('tempo').rdd.flatMap(lambda x: x).collect())\n",
    "plt.title('Count of Tempo')\n",
    "plt.xlabel('Tempo')\n",
    "plt.ylabel('Count')\n",
    "%matplot plt"
   ]
  },
  {
   "cell_type": "code",
   "execution_count": 12,
   "metadata": {},
   "outputs": [
    {
     "data": {
      "application/vnd.jupyter.widget-view+json": {
       "model_id": "",
       "version_major": 2,
       "version_minor": 0
      },
      "text/plain": [
       "FloatProgress(value=0.0, bar_style='info', description='Progress:', layout=Layout(height='25px', width='50%'),…"
      ]
     },
     "metadata": {},
     "output_type": "display_data"
    },
    {
     "data": {
      "image/png": "[encoded data removed]",
      "text/plain": [
       "<IPython.core.display.Image object>"
      ]
     },
     "metadata": {},
     "output_type": "display_data"
    }
   ],
   "source": [
    "plt.clf()\n",
    "plt.hist(df.select('year').rdd.flatMap(lambda x: x).collect())\n",
    "plt.title('Count of Year')\n",
    "plt.xlabel('Year')\n",
    "plt.ylabel('Count')\n",
    "%matplot plt"
   ]
  },
  {
   "cell_type": "code",
   "execution_count": 13,
   "metadata": {},
   "outputs": [
    {
     "data": {
      "application/vnd.jupyter.widget-view+json": {
       "model_id": "",
       "version_major": 2,
       "version_minor": 0
      },
      "text/plain": [
       "FloatProgress(value=0.0, bar_style='info', description='Progress:', layout=Layout(height='25px', width='50%'),…"
      ]
     },
     "metadata": {},
     "output_type": "display_data"
    },
    {
     "data": {
      "image/png": "[encoded data removed]",
      "text/plain": [
       "<IPython.core.display.Image object>"
      ]
     },
     "metadata": {},
     "output_type": "display_data"
    }
   ],
   "source": [
    "plt.clf()\n",
    "filtered_df = df.filter(df['year'] != 0)\n",
    "plt.hist(filtered_df.select('year').rdd.flatMap(lambda x: x).collect())\n",
    "plt.title('Count of Year > 0')\n",
    "plt.xlabel('Year')\n",
    "plt.ylabel('Count')\n",
    "\n",
    "%matplot plt"
   ]
  },
  {
   "cell_type": "markdown",
   "metadata": {
    "application/vnd.databricks.v1+cell": {
     "inputWidgets": {},
     "nuid": "8a8f8438-166b-44aa-ad20-2cdc3fafdcb3",
     "showTitle": false,
     "title": ""
    },
    "id": "g8OM2ZiEbGOo"
   },
   "source": [
    "Some scatter pair plots would also be interesting to see the correlation between features. ✰2.3(e) Include the plots of the following pairs of features and describe your findings (e.g. what patterns you observe) in your writeup.\n",
    "- `song_hotttnesss` against `artist_familiarity`\n",
    "- `artist_latitude` against `artist_longitude`\n",
    "- `song_hotttnesss` against `year`\n",
    "\n",
    "Plotting all data points might explode matplotlib. Think about what simple technique you could use to visualize large datasets while retaining data distribution. ✰2.3(f) In your writeup, briefly describe what you did."
   ]
  },
  {
   "cell_type": "code",
   "execution_count": 14,
   "metadata": {
    "application/vnd.databricks.v1+cell": {
     "inputWidgets": {},
     "nuid": "41f7f371-fbec-4988-b12c-8e3dd3567488",
     "showTitle": false,
     "title": ""
    },
    "id": "1S111QAjbGOo"
   },
   "outputs": [
    {
     "data": {
      "application/vnd.jupyter.widget-view+json": {
       "model_id": "",
       "version_major": 2,
       "version_minor": 0
      },
      "text/plain": [
       "FloatProgress(value=0.0, bar_style='info', description='Progress:', layout=Layout(height='25px', width='50%'),…"
      ]
     },
     "metadata": {},
     "output_type": "display_data"
    },
    {
     "data": {
      "image/png": "[encoded data removed]",
      "text/plain": [
       "<IPython.core.display.Image object>"
      ]
     },
     "metadata": {},
     "output_type": "display_data"
    }
   ],
   "source": [
    "plt.clf()\n",
    "column1_values = df.select('song_hotttnesss').rdd.flatMap(lambda x: x).collect()\n",
    "column2_values = df.select('artist_familiarity').rdd.flatMap(lambda x: x).collect()\n",
    "plt.title('Artist Familiarity vs Song Hotttnesss')\n",
    "plt.xlabel('Song Hotttnesss')\n",
    "plt.ylabel('Artist Familiarity')\n",
    "\n",
    "plt.scatter(column2_values, column1_values, color='skyblue')\n",
    "%matplot plt"
   ]
  },
  {
   "cell_type": "code",
   "execution_count": 15,
   "metadata": {},
   "outputs": [
    {
     "data": {
      "application/vnd.jupyter.widget-view+json": {
       "model_id": "",
       "version_major": 2,
       "version_minor": 0
      },
      "text/plain": [
       "FloatProgress(value=0.0, bar_style='info', description='Progress:', layout=Layout(height='25px', width='50%'),…"
      ]
     },
     "metadata": {},
     "output_type": "display_data"
    },
    {
     "data": {
      "image/png": "[encoded data removed]",
      "text/plain": [
       "<IPython.core.display.Image object>"
      ]
     },
     "metadata": {},
     "output_type": "display_data"
    }
   ],
   "source": [
    "plt.clf()\n",
    "column1_values = df.select('artist_latitude').rdd.flatMap(lambda x: x).collect()\n",
    "column2_values = df.select('artist_longitude').rdd.flatMap(lambda x: x).collect()\n",
    "plt.title('Artist Longitude vs Artist Latitude')\n",
    "plt.xlabel('Artist Latitude')\n",
    "plt.ylabel('Artist Longitude')\n",
    "\n",
    "plt.scatter(column2_values, column1_values, color='skyblue')\n",
    "%matplot plt"
   ]
  },
  {
   "cell_type": "code",
   "execution_count": 16,
   "metadata": {},
   "outputs": [
    {
     "data": {
      "application/vnd.jupyter.widget-view+json": {
       "model_id": "",
       "version_major": 2,
       "version_minor": 0
      },
      "text/plain": [
       "FloatProgress(value=0.0, bar_style='info', description='Progress:', layout=Layout(height='25px', width='50%'),…"
      ]
     },
     "metadata": {},
     "output_type": "display_data"
    },
    {
     "data": {
      "image/png": "[encoded data removed]",
      "text/plain": [
       "<IPython.core.display.Image object>"
      ]
     },
     "metadata": {},
     "output_type": "display_data"
    }
   ],
   "source": [
    "plt.clf()\n",
    "column1_values = df.select('song_hotttnesss').rdd.flatMap(lambda x: x).collect()\n",
    "column2_values = df.select('year').rdd.flatMap(lambda x: x).collect()\n",
    "plt.title('Year vs Song hotttnesss')\n",
    "plt.xlabel('Song hotttnesss')\n",
    "plt.ylabel('Year')\n",
    "\n",
    "plt.scatter( column2_values, column1_values, color='skyblue')\n",
    "%matplot plt"
   ]
  },
  {
   "cell_type": "markdown",
   "metadata": {
    "application/vnd.databricks.v1+cell": {
     "inputWidgets": {},
     "nuid": "b8a46234-ae5e-4ab7-ba35-4c9a08043c23",
     "showTitle": false,
     "title": ""
    },
    "id": "edOR1LYvbGOo"
   },
   "source": [
    "### 3. Data Cleaning\n",
    "\n",
    "From 2, you should have had a basic understanding of the dataset. In this cleaning step, we are dropping `energy` and `danceability` features. "
   ]
  },
  {
   "cell_type": "code",
   "execution_count": 17,
   "metadata": {
    "application/vnd.databricks.v1+cell": {
     "inputWidgets": {},
     "nuid": "b491848b-96be-4af8-a64b-4bdecbf907cc",
     "showTitle": false,
     "title": ""
    },
    "id": "K_qoFKDKbGOp"
   },
   "outputs": [
    {
     "data": {
      "application/vnd.jupyter.widget-view+json": {
       "model_id": "",
       "version_major": 2,
       "version_minor": 0
      },
      "text/plain": [
       "FloatProgress(value=0.0, bar_style='info', description='Progress:', layout=Layout(height='25px', width='50%'),…"
      ]
     },
     "metadata": {},
     "output_type": "display_data"
    }
   ],
   "source": [
    "columns_to_drop = ['energy', 'danceability']\n",
    "\n",
    "cleaned_df = df.drop(*columns_to_drop)"
   ]
  },
  {
   "cell_type": "markdown",
   "metadata": {
    "application/vnd.databricks.v1+cell": {
     "inputWidgets": {},
     "nuid": "64cb2226-dcf2-4d19-a423-320270a93391",
     "showTitle": false,
     "title": ""
    },
    "id": "rS8RChEBbGOp"
   },
   "source": [
    "For simplicity, we are dropping `year` values that are less or equal to 1920."
   ]
  },
  {
   "cell_type": "code",
   "execution_count": 18,
   "metadata": {
    "application/vnd.databricks.v1+cell": {
     "inputWidgets": {},
     "nuid": "cd1fb1a7-628b-4f18-b728-d874fa2eecc2",
     "showTitle": false,
     "title": ""
    },
    "id": "IntPLzb0bGOp"
   },
   "outputs": [
    {
     "data": {
      "application/vnd.jupyter.widget-view+json": {
       "model_id": "",
       "version_major": 2,
       "version_minor": 0
      },
      "text/plain": [
       "FloatProgress(value=0.0, bar_style='info', description='Progress:', layout=Layout(height='25px', width='50%'),…"
      ]
     },
     "metadata": {},
     "output_type": "display_data"
    },
    {
     "name": "stdout",
     "output_type": "stream",
     "text": [
      "581965\n",
      "346444"
     ]
    }
   ],
   "source": [
    "print(cleaned_df.count())\n",
    "cleaned_df = cleaned_df.filter(df['year'] > 1920)\n",
    "print(cleaned_df.count())"
   ]
  },
  {
   "cell_type": "markdown",
   "metadata": {
    "application/vnd.databricks.v1+cell": {
     "inputWidgets": {},
     "nuid": "0139eb2c-2151-44fb-bc95-da9e1939574f",
     "showTitle": false,
     "title": ""
    },
    "id": "cfPJkDifbGOp"
   },
   "source": [
    "Now, let's do an NaN check to see if there are other problematic features."
   ]
  },
  {
   "cell_type": "code",
   "execution_count": 19,
   "metadata": {
    "application/vnd.databricks.v1+cell": {
     "inputWidgets": {},
     "nuid": "2ee11481-e983-42b7-a35c-67f2cd0bfd58",
     "showTitle": false,
     "title": ""
    },
    "id": "NUFuO6SrbGOq"
   },
   "outputs": [
    {
     "data": {
      "application/vnd.jupyter.widget-view+json": {
       "model_id": "",
       "version_major": 2,
       "version_minor": 0
      },
      "text/plain": [
       "FloatProgress(value=0.0, bar_style='info', description='Progress:', layout=Layout(height='25px', width='50%'),…"
      ]
     },
     "metadata": {},
     "output_type": "display_data"
    },
    {
     "name": "stdout",
     "output_type": "stream",
     "text": [
      "NaN count for song_hotttnesss: 0\n",
      "NaN count for artist_familiarity: 1\n",
      "NaN count for artist_hotttnesss: 0\n",
      "NaN count for artist_id: 0\n",
      "NaN count for artist_latitude: 219399\n",
      "NaN count for artist_location: 0\n",
      "NaN count for artist_longitude: 219399\n",
      "NaN count for artist_name: 0\n",
      "NaN count for title: 1\n",
      "NaN count for duration: 0\n",
      "NaN count for end_of_fade_in: 0\n",
      "NaN count for key: 0\n",
      "NaN count for key_confidence: 0\n",
      "NaN count for loudness: 0\n",
      "NaN count for mode: 0\n",
      "NaN count for mode_confidence: 0\n",
      "NaN count for start_of_fade_out: 0\n",
      "NaN count for tempo: 0\n",
      "NaN count for time_signature: 0\n",
      "NaN count for time_signature_confidence: 0\n",
      "NaN count for artist_terms: 0\n",
      "NaN count for artist_terms_freq: 0\n",
      "NaN count for artist_terms_weight: 0\n",
      "NaN count for year: 0"
     ]
    }
   ],
   "source": [
    "# count na\n",
    "from pyspark.sql.functions import isnan, when, count, isnull\n",
    "\n",
    "for column in cleaned_df.columns:\n",
    "    nan_count = cleaned_df.select(count(when(isnan(column), column))).collect()[0][0]\n",
    "    print(f\"NaN count for {column}: {nan_count}\")"
   ]
  },
  {
   "cell_type": "markdown",
   "metadata": {
    "application/vnd.databricks.v1+cell": {
     "inputWidgets": {},
     "nuid": "b64e1319-1b0f-4d05-90a2-332968de3545",
     "showTitle": false,
     "title": ""
    },
    "id": "KMIBhrFjbGOq"
   },
   "source": [
    "We should see two features that contain (a lot of) `nan` in them.\n",
    "\n",
    "For simplicity, we are dropping all records with `nan` in these two features. Note that this drops a significant proportion of our dataset. Since we have a lot of data to fit some rather simple models, this might be ok. \n",
    "\n",
    "However, do note that this is not usually desirable in the real-word because we always want to retain as much data as possible, especially when training larger, more complex models."
   ]
  },
  {
   "cell_type": "code",
   "execution_count": 20,
   "metadata": {
    "application/vnd.databricks.v1+cell": {
     "inputWidgets": {},
     "nuid": "ecc73bc3-a9de-4af6-be6d-3d629b4edc25",
     "showTitle": false,
     "title": ""
    },
    "id": "FfTUaV9MbGOq"
   },
   "outputs": [
    {
     "data": {
      "application/vnd.jupyter.widget-view+json": {
       "model_id": "",
       "version_major": 2,
       "version_minor": 0
      },
      "text/plain": [
       "FloatProgress(value=0.0, bar_style='info', description='Progress:', layout=Layout(height='25px', width='50%'),…"
      ]
     },
     "metadata": {},
     "output_type": "display_data"
    }
   ],
   "source": [
    "cleaned_df = cleaned_df.filter(~isnan(df['artist_latitude']))\n",
    "cleaned_df = cleaned_df.filter(~isnan(df['artist_longitude']))"
   ]
  },
  {
   "cell_type": "markdown",
   "metadata": {
    "application/vnd.databricks.v1+cell": {
     "inputWidgets": {},
     "nuid": "5337b93b-2e7b-42a3-95af-acb04aa860f0",
     "showTitle": false,
     "title": ""
    },
    "id": "C5YQ936PbGOq"
   },
   "source": [
    "Lets calcualte the percentage of records that survived this very aggressive data cleaning."
   ]
  },
  {
   "cell_type": "code",
   "execution_count": 21,
   "metadata": {
    "application/vnd.databricks.v1+cell": {
     "inputWidgets": {},
     "nuid": "5d738d09-aba9-4e13-a9b5-365ed92131a4",
     "showTitle": false,
     "title": ""
    },
    "id": "Hno4Hve4bGOq"
   },
   "outputs": [
    {
     "data": {
      "application/vnd.jupyter.widget-view+json": {
       "model_id": "",
       "version_major": 2,
       "version_minor": 0
      },
      "text/plain": [
       "FloatProgress(value=0.0, bar_style='info', description='Progress:', layout=Layout(height='25px', width='50%'),…"
      ]
     },
     "metadata": {},
     "output_type": "display_data"
    },
    {
     "name": "stdout",
     "output_type": "stream",
     "text": [
      "21.830350622460113"
     ]
    }
   ],
   "source": [
    "# counting code\n",
    "print((cleaned_df.count() / df.count()) * 100)"
   ]
  },
  {
   "cell_type": "markdown",
   "metadata": {
    "application/vnd.databricks.v1+cell": {
     "inputWidgets": {},
     "nuid": "eb77bbcf-691d-46dd-b405-5dd4ba0b1eb8",
     "showTitle": false,
     "title": ""
    },
    "id": "I3p1DrvmbGOq"
   },
   "source": [
    "### 4. Baseline\n",
    "\n",
    "Now we have the data (almost) ready to do some preliminary modeling! \n",
    "\n",
    "We will be treating this problem as a classification problem, i.e. given some features, predict whether a song will be popular. We define a song to be popular if its `song_hotttnesss` value is above average."
   ]
  },
  {
   "cell_type": "code",
   "execution_count": 22,
   "metadata": {
    "application/vnd.databricks.v1+cell": {
     "inputWidgets": {},
     "nuid": "2960145a-91b9-4f1f-aa69-fd49829bda64",
     "showTitle": false,
     "title": ""
    },
    "id": "yCGy3UtUbGOr"
   },
   "outputs": [
    {
     "data": {
      "application/vnd.jupyter.widget-view+json": {
       "model_id": "",
       "version_major": 2,
       "version_minor": 0
      },
      "text/plain": [
       "FloatProgress(value=0.0, bar_style='info', description='Progress:', layout=Layout(height='25px', width='50%'),…"
      ]
     },
     "metadata": {},
     "output_type": "display_data"
    },
    {
     "name": "stdout",
     "output_type": "stream",
     "text": [
      "+-------+-------------------+\n",
      "|summary|              label|\n",
      "+-------+-------------------+\n",
      "|  count|             127045|\n",
      "|   mean| 0.5599354559408084|\n",
      "| stddev|0.49639669687421617|\n",
      "|    min|                  0|\n",
      "|    25%|                  0|\n",
      "|    50%|                  1|\n",
      "|    75%|                  1|\n",
      "|    max|                  1|\n",
      "+-------+-------------------+"
     ]
    }
   ],
   "source": [
    "from pyspark.sql.functions import col, expr, when, avg\n",
    "\n",
    "# assign labels\n",
    "average_hotttness = cleaned_df.select(avg('song_hotttnesss')).collect()[0][0]\n",
    "df_with_label = cleaned_df.withColumn('label', when(col('song_hotttnesss') > average_hotttness, 1).otherwise(0))\n",
    "df_with_label.select(\"label\").summary().show()"
   ]
  },
  {
   "cell_type": "markdown",
   "metadata": {
    "application/vnd.databricks.v1+cell": {
     "inputWidgets": {},
     "nuid": "5cc243f5-904c-46a9-a45f-95cf47086ae4",
     "showTitle": false,
     "title": ""
    },
    "id": "7P7RUcVGbGOr"
   },
   "source": [
    "Now let's take a look at how balanced the two classes are."
   ]
  },
  {
   "cell_type": "code",
   "execution_count": 23,
   "metadata": {
    "application/vnd.databricks.v1+cell": {
     "inputWidgets": {},
     "nuid": "fffe7c1f-ab19-414a-b073-a07e5de6d7de",
     "showTitle": false,
     "title": ""
    },
    "id": "lijIsObbbGOr"
   },
   "outputs": [
    {
     "data": {
      "application/vnd.jupyter.widget-view+json": {
       "model_id": "",
       "version_major": 2,
       "version_minor": 0
      },
      "text/plain": [
       "FloatProgress(value=0.0, bar_style='info', description='Progress:', layout=Layout(height='25px', width='50%'),…"
      ]
     },
     "metadata": {},
     "output_type": "display_data"
    },
    {
     "name": "stdout",
     "output_type": "stream",
     "text": [
      "55.99354559408084"
     ]
    }
   ],
   "source": [
    "total_rows = df_with_label.count()\n",
    "popular_songs_count = df_with_label.filter(df_with_label['label'] == 1).count()\n",
    "popular_percentage = (popular_songs_count / total_rows) * 100\n",
    "popular_percentage"
   ]
  },
  {
   "cell_type": "code",
   "execution_count": 24,
   "metadata": {},
   "outputs": [
    {
     "data": {
      "application/vnd.jupyter.widget-view+json": {
       "model_id": "",
       "version_major": 2,
       "version_minor": 0
      },
      "text/plain": [
       "FloatProgress(value=0.0, bar_style='info', description='Progress:', layout=Layout(height='25px', width='50%'),…"
      ]
     },
     "metadata": {},
     "output_type": "display_data"
    },
    {
     "name": "stdout",
     "output_type": "stream",
     "text": [
      "0.4271275159918469"
     ]
    }
   ],
   "source": [
    "print(average_hotttness)"
   ]
  },
  {
   "cell_type": "markdown",
   "metadata": {
    "application/vnd.databricks.v1+cell": {
     "inputWidgets": {},
     "nuid": "a49f1fe3-9ecc-4f0a-8721-1da6bddf901d",
     "showTitle": false,
     "title": ""
    },
    "id": "CAFx-f3NbGOr"
   },
   "source": [
    "As how we've been dealing with the `year` feature in earlier assignments, we will shift the feature so that it starts from 0."
   ]
  },
  {
   "cell_type": "code",
   "execution_count": 25,
   "metadata": {
    "application/vnd.databricks.v1+cell": {
     "inputWidgets": {},
     "nuid": "464fd15a-eb38-4767-9961-7367f398a2cf",
     "showTitle": false,
     "title": ""
    },
    "id": "vWfY2SR_bGOr"
   },
   "outputs": [
    {
     "data": {
      "application/vnd.jupyter.widget-view+json": {
       "model_id": "",
       "version_major": 2,
       "version_minor": 0
      },
      "text/plain": [
       "FloatProgress(value=0.0, bar_style='info', description='Progress:', layout=Layout(height='25px', width='50%'),…"
      ]
     },
     "metadata": {},
     "output_type": "display_data"
    },
    {
     "name": "stdout",
     "output_type": "stream",
     "text": [
      "+-------+-----------------+\n",
      "|summary|             year|\n",
      "+-------+-----------------+\n",
      "|  count|           127045|\n",
      "|   mean| 73.9572907237593|\n",
      "| stddev|10.85533555585107|\n",
      "|    min|              0.0|\n",
      "|    25%|             70.0|\n",
      "|    50%|             77.0|\n",
      "|    75%|             82.0|\n",
      "|    max|             86.0|\n",
      "+-------+-----------------+"
     ]
    }
   ],
   "source": [
    "# shift years\n",
    "from pyspark.sql.functions import min\n",
    "min_year = df_with_label.select(min('year')).first()[0]\n",
    "df_shifted_year = df_with_label.withColumn('year', col('year') - min_year)\n",
    "df_shifted_year.select(\"year\").summary().show()"
   ]
  },
  {
   "cell_type": "markdown",
   "metadata": {
    "application/vnd.databricks.v1+cell": {
     "inputWidgets": {},
     "nuid": "cba48875-ef80-4ef8-9b9d-f65ff3463ebc",
     "showTitle": false,
     "title": ""
    },
    "id": "iQypQ7mobGOr"
   },
   "source": [
    "Finally, let's concatenate all features (using VectorAssembler) into a feature vector and scale it. \n",
    "\n",
    "Note: we will only be using the numeric features for now. Excluding `song_hotttnesss` and the two features we dropped in the data cleaning step, there should be 19-3=16 of them."
   ]
  },
  {
   "cell_type": "code",
   "execution_count": 26,
   "metadata": {
    "application/vnd.databricks.v1+cell": {
     "inputWidgets": {},
     "nuid": "5edbc59d-3f87-4436-9f5f-14928035d6ae",
     "showTitle": false,
     "title": ""
    },
    "id": "VOs9nbj3bGOr"
   },
   "outputs": [
    {
     "data": {
      "application/vnd.jupyter.widget-view+json": {
       "model_id": "",
       "version_major": 2,
       "version_minor": 0
      },
      "text/plain": [
       "FloatProgress(value=0.0, bar_style='info', description='Progress:', layout=Layout(height='25px', width='50%'),…"
      ]
     },
     "metadata": {},
     "output_type": "display_data"
    },
    {
     "name": "stdout",
     "output_type": "stream",
     "text": [
      "16"
     ]
    }
   ],
   "source": [
    "# assembling vector\n",
    "\n",
    "from pyspark.ml.feature import VectorAssembler\n",
    "labels = df_shifted_year.select(\"label\")\n",
    "columns_to_drop = [\"label\", \"artist_id\", \"artist_location\", \"artist_name\", \"title\", \"artist_terms\", \"artist_terms_freq\", \"artist_terms_weight\", \"song_hotttnesss\"]\n",
    "feature_columns = df_shifted_year.drop(*columns_to_drop).columns\n",
    "print(len(feature_columns))\n",
    "\n",
    "assembler = VectorAssembler(inputCols=feature_columns, outputCol='features')\n",
    "df_assembled = assembler.transform(df_shifted_year)"
   ]
  },
  {
   "cell_type": "code",
   "execution_count": 27,
   "metadata": {
    "application/vnd.databricks.v1+cell": {
     "inputWidgets": {},
     "nuid": "4f2dc7fa-29fb-46fd-b4db-c6ea6c017abb",
     "showTitle": false,
     "title": ""
    },
    "id": "J04hWIfybGOs"
   },
   "outputs": [
    {
     "data": {
      "application/vnd.jupyter.widget-view+json": {
       "model_id": "",
       "version_major": 2,
       "version_minor": 0
      },
      "text/plain": [
       "FloatProgress(value=0.0, bar_style='info', description='Progress:', layout=Layout(height='25px', width='50%'),…"
      ]
     },
     "metadata": {},
     "output_type": "display_data"
    }
   ],
   "source": [
    "# scaling\n",
    "\n",
    "from pyspark.ml.feature import StandardScaler\n",
    "\n",
    "scaler = StandardScaler(inputCol='features', outputCol='scaled_features', withStd=True, withMean=True)\n",
    "scaler_model = scaler.fit(df_assembled)\n",
    "df_features = scaler_model.transform(df_assembled)"
   ]
  },
  {
   "cell_type": "markdown",
   "metadata": {
    "application/vnd.databricks.v1+cell": {
     "inputWidgets": {},
     "nuid": "18b3d8b7-ca44-4790-a2a9-30b30b80c612",
     "showTitle": false,
     "title": ""
    },
    "id": "_04B0N44bGOs"
   },
   "source": [
    "Now let's verify the resulting feature vector is of expected length 16."
   ]
  },
  {
   "cell_type": "code",
   "execution_count": 28,
   "metadata": {
    "application/vnd.databricks.v1+cell": {
     "inputWidgets": {},
     "nuid": "028b1e4e-dfe8-4191-a49b-f29f23ab8aac",
     "showTitle": false,
     "title": ""
    },
    "id": "XSzZdDxebGOs"
   },
   "outputs": [
    {
     "data": {
      "application/vnd.jupyter.widget-view+json": {
       "model_id": "",
       "version_major": 2,
       "version_minor": 0
      },
      "text/plain": [
       "FloatProgress(value=0.0, bar_style='info', description='Progress:', layout=Layout(height='25px', width='50%'),…"
      ]
     },
     "metadata": {},
     "output_type": "display_data"
    },
    {
     "name": "stdout",
     "output_type": "stream",
     "text": [
      "vector len: 16"
     ]
    }
   ],
   "source": [
    "# change your variable/column names accordingly\n",
    "l = df_features.select('features').take(1)[0].features\n",
    "print('vector len:',len(l))\n",
    "assert len(l) == 16"
   ]
  },
  {
   "cell_type": "markdown",
   "metadata": {
    "application/vnd.databricks.v1+cell": {
     "inputWidgets": {},
     "nuid": "c54cf7b6-0109-493b-bf45-58ae23407c64",
     "showTitle": false,
     "title": ""
    },
    "id": "cA6ciqngbGOs"
   },
   "source": [
    "Now, we are really ready to fit some models. \n",
    "\n",
    "First, do a train-test split on the dataset, with test ratio 0.2 and seed 10605."
   ]
  },
  {
   "cell_type": "code",
   "execution_count": 29,
   "metadata": {
    "application/vnd.databricks.v1+cell": {
     "inputWidgets": {},
     "nuid": "adaa8b39-f18e-47b6-bc98-8996bf4397bc",
     "showTitle": false,
     "title": ""
    },
    "id": "rZvvEWTrbGOs"
   },
   "outputs": [
    {
     "data": {
      "application/vnd.jupyter.widget-view+json": {
       "model_id": "",
       "version_major": 2,
       "version_minor": 0
      },
      "text/plain": [
       "FloatProgress(value=0.0, bar_style='info', description='Progress:', layout=Layout(height='25px', width='50%'),…"
      ]
     },
     "metadata": {},
     "output_type": "display_data"
    }
   ],
   "source": [
    "train_df, test_df = df_features.randomSplit([0.8, 0.2], seed=10605)"
   ]
  },
  {
   "cell_type": "markdown",
   "metadata": {
    "application/vnd.databricks.v1+cell": {
     "inputWidgets": {},
     "nuid": "00a18243-93e3-4368-a753-8bde1d19633a",
     "showTitle": false,
     "title": ""
    },
    "id": "qbmIO2ibbGOs"
   },
   "source": [
    "We have to select a metric to evaluate our models on. For classification, potential choices include accuracy and AUC.\n",
    "\n",
    "We will be going with AUC here. Instantiate an AUC Evaluator in the following cell."
   ]
  },
  {
   "cell_type": "code",
   "execution_count": 30,
   "metadata": {
    "application/vnd.databricks.v1+cell": {
     "inputWidgets": {},
     "nuid": "a318a005-a6f2-4d1e-89b2-83949396fb72",
     "showTitle": false,
     "title": ""
    },
    "id": "dK2VbP_obGOt"
   },
   "outputs": [
    {
     "data": {
      "application/vnd.jupyter.widget-view+json": {
       "model_id": "",
       "version_major": 2,
       "version_minor": 0
      },
      "text/plain": [
       "FloatProgress(value=0.0, bar_style='info', description='Progress:', layout=Layout(height='25px', width='50%'),…"
      ]
     },
     "metadata": {},
     "output_type": "display_data"
    }
   ],
   "source": [
    "from pyspark.ml.evaluation import BinaryClassificationEvaluator\n",
    "\n",
    "auc_eval = BinaryClassificationEvaluator(metricName='areaUnderROC')"
   ]
  },
  {
   "cell_type": "markdown",
   "metadata": {
    "application/vnd.databricks.v1+cell": {
     "inputWidgets": {},
     "nuid": "1968687d-252d-4073-a78c-12bafdfd5927",
     "showTitle": false,
     "title": ""
    },
    "id": "kLGozCzDbGOt"
   },
   "source": [
    "We will be fitting two models, logistic regression, and random forest.\n",
    "\n",
    "Train a LR and a RF model with default hyperparameters."
   ]
  },
  {
   "cell_type": "code",
   "execution_count": 31,
   "metadata": {
    "application/vnd.databricks.v1+cell": {
     "inputWidgets": {},
     "nuid": "49d94a8d-e607-4beb-8a06-30bbe5a2e542",
     "showTitle": false,
     "title": ""
    },
    "id": "ks5RQm4DbGOt"
   },
   "outputs": [
    {
     "data": {
      "application/vnd.jupyter.widget-view+json": {
       "model_id": "",
       "version_major": 2,
       "version_minor": 0
      },
      "text/plain": [
       "FloatProgress(value=0.0, bar_style='info', description='Progress:', layout=Layout(height='25px', width='50%'),…"
      ]
     },
     "metadata": {},
     "output_type": "display_data"
    }
   ],
   "source": [
    "# Logistic Regression\n",
    "from pyspark.ml.classification import LogisticRegression\n",
    "\n",
    "lr = LogisticRegression(labelCol=\"label\", featuresCol=\"scaled_features\")\n",
    "lr_model_basic = lr.fit(train_df)"
   ]
  },
  {
   "cell_type": "code",
   "execution_count": 32,
   "metadata": {},
   "outputs": [
    {
     "data": {
      "application/vnd.jupyter.widget-view+json": {
       "model_id": "",
       "version_major": 2,
       "version_minor": 0
      },
      "text/plain": [
       "FloatProgress(value=0.0, bar_style='info', description='Progress:', layout=Layout(height='25px', width='50%'),…"
      ]
     },
     "metadata": {},
     "output_type": "display_data"
    }
   ],
   "source": [
    "lr_train_predictions = lr_model_basic.transform(train_df)\n",
    "lr_test_predictions = lr_model_basic.transform(test_df)\n",
    "lr_train_auc = auc_eval.evaluate(lr_train_predictions)\n",
    "lr_test_auc = auc_eval.evaluate(lr_test_predictions)"
   ]
  },
  {
   "cell_type": "code",
   "execution_count": 33,
   "metadata": {},
   "outputs": [
    {
     "data": {
      "application/vnd.jupyter.widget-view+json": {
       "model_id": "",
       "version_major": 2,
       "version_minor": 0
      },
      "text/plain": [
       "FloatProgress(value=0.0, bar_style='info', description='Progress:', layout=Layout(height='25px', width='50%'),…"
      ]
     },
     "metadata": {},
     "output_type": "display_data"
    },
    {
     "name": "stdout",
     "output_type": "stream",
     "text": [
      "(0.7548546055180058, 0.7537922064276091)"
     ]
    }
   ],
   "source": [
    "lr_train_auc, lr_test_auc"
   ]
  },
  {
   "cell_type": "code",
   "execution_count": 34,
   "metadata": {
    "application/vnd.databricks.v1+cell": {
     "inputWidgets": {},
     "nuid": "d8e65973-9032-4f58-a280-45315d68b498",
     "showTitle": false,
     "title": ""
    },
    "id": "EXQ93tnObGOt"
   },
   "outputs": [
    {
     "data": {
      "application/vnd.jupyter.widget-view+json": {
       "model_id": "",
       "version_major": 2,
       "version_minor": 0
      },
      "text/plain": [
       "FloatProgress(value=0.0, bar_style='info', description='Progress:', layout=Layout(height='25px', width='50%'),…"
      ]
     },
     "metadata": {},
     "output_type": "display_data"
    }
   ],
   "source": [
    "# Random Forest\n",
    "\n",
    "from pyspark.ml.classification import RandomForestClassifier\n",
    "\n",
    "rf = RandomForestClassifier(labelCol=\"label\", featuresCol=\"scaled_features\")\n",
    "rf_model_basic = rf.fit(train_df)"
   ]
  },
  {
   "cell_type": "code",
   "execution_count": 35,
   "metadata": {},
   "outputs": [
    {
     "data": {
      "application/vnd.jupyter.widget-view+json": {
       "model_id": "",
       "version_major": 2,
       "version_minor": 0
      },
      "text/plain": [
       "FloatProgress(value=0.0, bar_style='info', description='Progress:', layout=Layout(height='25px', width='50%'),…"
      ]
     },
     "metadata": {},
     "output_type": "display_data"
    }
   ],
   "source": [
    "rf_train_predictions = rf_model_basic.transform(train_df)\n",
    "rf_test_predictions = rf_model_basic.transform(test_df)\n",
    "rf_train_auc = auc_eval.evaluate(rf_train_predictions)\n",
    "rf_test_auc = auc_eval.evaluate(rf_test_predictions)"
   ]
  },
  {
   "cell_type": "code",
   "execution_count": 36,
   "metadata": {},
   "outputs": [
    {
     "data": {
      "application/vnd.jupyter.widget-view+json": {
       "model_id": "",
       "version_major": 2,
       "version_minor": 0
      },
      "text/plain": [
       "FloatProgress(value=0.0, bar_style='info', description='Progress:', layout=Layout(height='25px', width='50%'),…"
      ]
     },
     "metadata": {},
     "output_type": "display_data"
    },
    {
     "name": "stdout",
     "output_type": "stream",
     "text": [
      "(0.7637393898401477, 0.7621528652779781)"
     ]
    }
   ],
   "source": [
    "rf_train_auc, rf_test_auc"
   ]
  },
  {
   "cell_type": "markdown",
   "metadata": {
    "application/vnd.databricks.v1+cell": {
     "inputWidgets": {},
     "nuid": "48a5b8d3-d12f-4366-9cb7-9c36ad772196",
     "showTitle": false,
     "title": ""
    },
    "id": "hIa9p1q9bGOt"
   },
   "source": [
    "### 5. Featurization: Bag-of-Words and TF-IDF\n",
    "\n",
    "In our list of features, we have two features that contain text data, namely `title` and `artist_terms`.\n",
    "\n",
    "To get myself familiar with both in Spark, let's treat titles and artist terms as mini documents and compute TF-IDF for `title` and BoW for `artist_terms`."
   ]
  },
  {
   "cell_type": "code",
   "execution_count": 37,
   "metadata": {
    "application/vnd.databricks.v1+cell": {
     "inputWidgets": {},
     "nuid": "e660b9c3-d8df-40db-8634-b8675a63e24a",
     "showTitle": false,
     "title": ""
    },
    "id": "6jqlCBvMbGOt"
   },
   "outputs": [
    {
     "data": {
      "application/vnd.jupyter.widget-view+json": {
       "model_id": "",
       "version_major": 2,
       "version_minor": 0
      },
      "text/plain": [
       "FloatProgress(value=0.0, bar_style='info', description='Progress:', layout=Layout(height='25px', width='50%'),…"
      ]
     },
     "metadata": {},
     "output_type": "display_data"
    }
   ],
   "source": [
    "# tf-idf on title\n",
    "\n",
    "from pyspark.ml.feature import Tokenizer, HashingTF, IDF\n",
    "\n",
    "TF_IDF_NUM_FEATS = 5 # HashingTF(..., numFeatures=TF_IDF_NUM_FEATS)\n",
    "\n",
    "tokenizer = Tokenizer(inputCol=\"title\", outputCol=\"title_token\")\n",
    "token_df = tokenizer.transform(df_shifted_year)\n",
    "\n",
    "hashing_tf = HashingTF(inputCol=\"title_token\", outputCol=\"title_hash\", numFeatures=TF_IDF_NUM_FEATS)\n",
    "hashed_df = hashing_tf.transform(token_df)\n",
    "\n",
    "idf = IDF(inputCol=\"title_hash\", outputCol=\"title_features\")\n",
    "idf_model = idf.fit(hashed_df)\n",
    "df_tf_idf = idf_model.transform(hashed_df)"
   ]
  },
  {
   "cell_type": "markdown",
   "metadata": {
    "application/vnd.databricks.v1+cell": {
     "inputWidgets": {},
     "nuid": "db6c37e5-acc3-459d-af44-0aebeef4e223",
     "showTitle": false,
     "title": ""
    },
    "id": "JK40r1AlbGOt"
   },
   "source": [
    "Verify the resulting TF-IDF feature is indeed a vector of length `TF_IDF_NUM_FEATS`."
   ]
  },
  {
   "cell_type": "code",
   "execution_count": 38,
   "metadata": {
    "application/vnd.databricks.v1+cell": {
     "inputWidgets": {},
     "nuid": "93935194-25b2-43cc-b529-078353cddda4",
     "showTitle": false,
     "title": ""
    },
    "id": "gmz9L9kybGOt"
   },
   "outputs": [
    {
     "data": {
      "application/vnd.jupyter.widget-view+json": {
       "model_id": "",
       "version_major": 2,
       "version_minor": 0
      },
      "text/plain": [
       "FloatProgress(value=0.0, bar_style='info', description='Progress:', layout=Layout(height='25px', width='50%'),…"
      ]
     },
     "metadata": {},
     "output_type": "display_data"
    },
    {
     "name": "stdout",
     "output_type": "stream",
     "text": [
      "Row(title_features=SparseVector(5, {1: 0.8022, 2: 0.6637, 3: 0.696}))"
     ]
    }
   ],
   "source": [
    "from pyspark.ml.linalg import SparseVector\n",
    "# change variable/column name to yours\n",
    "col_name = 'title_features'\n",
    "head = df_tf_idf.select(col_name).head() \n",
    "print(head)\n",
    "assert type(head[col_name]) == SparseVector\n",
    "assert len(head[col_name]) == TF_IDF_NUM_FEATS"
   ]
  },
  {
   "cell_type": "markdown",
   "metadata": {
    "application/vnd.databricks.v1+cell": {
     "inputWidgets": {},
     "nuid": "2569bd2b-1646-4c9c-b2dd-a2d8f1dcaa35",
     "showTitle": false,
     "title": ""
    },
    "id": "45v57XVXbGOu"
   },
   "source": [
    "Recall that `artist_terms` should be of type string array but we have not yet interpreted from a string literal. Let's do that now. "
   ]
  },
  {
   "cell_type": "code",
   "execution_count": 39,
   "metadata": {
    "application/vnd.databricks.v1+cell": {
     "inputWidgets": {},
     "nuid": "09a6183e-6f84-4c3d-ba90-4b48cb653c3f",
     "showTitle": false,
     "title": ""
    },
    "id": "NKzvQv_obGOu"
   },
   "outputs": [
    {
     "data": {
      "application/vnd.jupyter.widget-view+json": {
       "model_id": "",
       "version_major": 2,
       "version_minor": 0
      },
      "text/plain": [
       "FloatProgress(value=0.0, bar_style='info', description='Progress:', layout=Layout(height='25px', width='50%'),…"
      ]
     },
     "metadata": {},
     "output_type": "display_data"
    }
   ],
   "source": [
    "from pyspark.sql.functions import udf\n",
    "import pyspark.sql.types as T\n",
    "\n",
    "def to_array(string):\n",
    "    return string.split(',')\n",
    "\n",
    "udf = udf(to_array, T.ArrayType(T.StringType()))\n",
    "\n",
    "df_tags_arr = df_tf_idf.withColumn(\"artist_terms_arr\", udf(df_tf_idf[\"artist_terms\"]))"
   ]
  },
  {
   "cell_type": "markdown",
   "metadata": {
    "application/vnd.databricks.v1+cell": {
     "inputWidgets": {},
     "nuid": "fb38600e-8562-4ddc-a3c9-2bd8a37b9a2e",
     "showTitle": false,
     "title": ""
    },
    "id": "JuSwcIRKbGOu"
   },
   "source": [
    "Let's do a quick check things indeed worked out."
   ]
  },
  {
   "cell_type": "code",
   "execution_count": 40,
   "metadata": {
    "application/vnd.databricks.v1+cell": {
     "inputWidgets": {},
     "nuid": "ad3d7ac2-13ba-4b70-9dbb-b44aa2ab73c7",
     "showTitle": false,
     "title": ""
    },
    "id": "81Ta3_ljbGOu"
   },
   "outputs": [
    {
     "data": {
      "application/vnd.jupyter.widget-view+json": {
       "model_id": "",
       "version_major": 2,
       "version_minor": 0
      },
      "text/plain": [
       "FloatProgress(value=0.0, bar_style='info', description='Progress:', layout=Layout(height='25px', width='50%'),…"
      ]
     },
     "metadata": {},
     "output_type": "display_data"
    },
    {
     "name": "stdout",
     "output_type": "stream",
     "text": [
      "Row(artist_terms_arr=[\"['hardcore punk'\", \" 'heavy metal'\", \" 'hardcore metal'\", \" 'thrash core'\", \" 'hard rock'\", \" 'death core'\", \" 'crossover thrash'\", \" 'metalcore'\", \" 'nu metal'\", \" 'rock'\", \" 'melodic black metal'\", \" 'thrash metal'\", \" 'hardcore'\", \" 'melodic death metal'\", \" 'power metal'\", \" 'screamo'\", \" 'progressive metal'\", \" 'black metal'\", \" 'punk'\", \" 'emo'\", \" 'death metal'\", \" 'hip hop'\", \" 'rap'\", \" 'alternative rock'\", \" 'punk metal'\", \" 'united states'\", \" 'singer-songwriter'\", \" 'metal'\", \" 'american'\", \" 'new york hardcore'\", \" 'alternative'\", \" 'germany'\", \" 'indie'\", \" 'christian'\", \" '00s'\", \" 'heavy'\", \" 'new york'\", \" 'crossover'\", \" 'new york city'\", \" 'old school hardcore'\", \" 'drums'\", \" 'trash metal'\", \" 'beat down']\"])"
     ]
    }
   ],
   "source": [
    "# change to your variable/column names\n",
    "col_name = 'artist_terms_arr'\n",
    "head = df_tags_arr.select(col_name).head()\n",
    "print(head)\n",
    "assert type(head[col_name]) == list"
   ]
  },
  {
   "cell_type": "markdown",
   "metadata": {
    "application/vnd.databricks.v1+cell": {
     "inputWidgets": {},
     "nuid": "3b6e99de-065e-4b99-8af8-43b2be8a701c",
     "showTitle": false,
     "title": ""
    },
    "id": "hxEv4U3XbGOu"
   },
   "source": [
    "Now perform BoW on the array feature you just created."
   ]
  },
  {
   "cell_type": "code",
   "execution_count": 41,
   "metadata": {
    "application/vnd.databricks.v1+cell": {
     "inputWidgets": {},
     "nuid": "41494760-f599-41ac-8940-51aafd925454",
     "showTitle": false,
     "title": ""
    },
    "id": "7M3D9CCUbGOu"
   },
   "outputs": [
    {
     "data": {
      "application/vnd.jupyter.widget-view+json": {
       "model_id": "",
       "version_major": 2,
       "version_minor": 0
      },
      "text/plain": [
       "FloatProgress(value=0.0, bar_style='info', description='Progress:', layout=Layout(height='25px', width='50%'),…"
      ]
     },
     "metadata": {},
     "output_type": "display_data"
    }
   ],
   "source": [
    "# BoW on artist_terms\n",
    "\n",
    "from pyspark.ml.feature import CountVectorizer\n",
    "\n",
    "BOW_VOCAB_SIZE = 10 \n",
    "BOW_MIN_DF = 2\n",
    "# CountVectorizer(..., vocabSize=BOW_VOCAB_SIZE, minDF=BOW_MIN_DF)\n",
    "\n",
    "count_vectorizer = CountVectorizer(inputCol=\"artist_terms_arr\", outputCol=\"artist_terms_bow\", vocabSize=BOW_VOCAB_SIZE, minDF=BOW_MIN_DF)\n",
    "count_vectorizer_model = count_vectorizer.fit(df_tags_arr)\n",
    "df_final = count_vectorizer_model.transform(df_tags_arr)\n"
   ]
  },
  {
   "cell_type": "markdown",
   "metadata": {
    "application/vnd.databricks.v1+cell": {
     "inputWidgets": {},
     "nuid": "d2b709df-209e-4e60-a420-7a7ecf22869c",
     "showTitle": false,
     "title": ""
    },
    "id": "RDAOyBfkbGOu"
   },
   "source": [
    "Verify the result of BoW is indeed a vector of length `BOW_VOCAB_SIZE`."
   ]
  },
  {
   "cell_type": "code",
   "execution_count": 42,
   "metadata": {
    "application/vnd.databricks.v1+cell": {
     "inputWidgets": {},
     "nuid": "43d9ea21-0b8d-40e2-a0e8-7da406c39e45",
     "showTitle": false,
     "title": ""
    },
    "id": "j89WWdllbGOv"
   },
   "outputs": [
    {
     "data": {
      "application/vnd.jupyter.widget-view+json": {
       "model_id": "",
       "version_major": 2,
       "version_minor": 0
      },
      "text/plain": [
       "FloatProgress(value=0.0, bar_style='info', description='Progress:', layout=Layout(height='25px', width='50%'),…"
      ]
     },
     "metadata": {},
     "output_type": "display_data"
    },
    {
     "name": "stdout",
     "output_type": "stream",
     "text": [
      "Row(artist_terms_bow=SparseVector(10, {0: 1.0, 3: 1.0, 4: 1.0, 6: 1.0, 7: 1.0, 9: 1.0}))"
     ]
    }
   ],
   "source": [
    "# change variable/column name to yours\n",
    "col_name = 'artist_terms_bow'\n",
    "head = df_final.select(col_name).head() \n",
    "print(head)\n",
    "assert type(head[col_name]) == SparseVector\n",
    "assert len(head[col_name]) == BOW_VOCAB_SIZE"
   ]
  },
  {
   "cell_type": "markdown",
   "metadata": {
    "application/vnd.databricks.v1+cell": {
     "inputWidgets": {},
     "nuid": "1eac2c14-eb99-4792-8525-6e727adab8ef",
     "showTitle": false,
     "title": ""
    },
    "id": "yexg1l-UbGOv"
   },
   "source": [
    "Now with the new feature columns ready, let's assemble and scale our features once again as we did to prepare for training. \n",
    "\n",
    "This time, we should have 16+2=18 features with the two being TF-IDF and BoW features we just created. The total length of the resulting feature vector should be 31."
   ]
  },
  {
   "cell_type": "code",
   "execution_count": 43,
   "metadata": {},
   "outputs": [
    {
     "data": {
      "application/vnd.jupyter.widget-view+json": {
       "model_id": "",
       "version_major": 2,
       "version_minor": 0
      },
      "text/plain": [
       "FloatProgress(value=0.0, bar_style='info', description='Progress:', layout=Layout(height='25px', width='50%'),…"
      ]
     },
     "metadata": {},
     "output_type": "display_data"
    },
    {
     "name": "stdout",
     "output_type": "stream",
     "text": [
      "['song_hotttnesss', 'artist_familiarity', 'artist_hotttnesss', 'artist_id', 'artist_latitude', 'artist_location', 'artist_longitude', 'artist_name', 'title', 'duration', 'end_of_fade_in', 'key', 'key_confidence', 'loudness', 'mode', 'mode_confidence', 'start_of_fade_out', 'tempo', 'time_signature', 'time_signature_confidence', 'artist_terms', 'artist_terms_freq', 'artist_terms_weight', 'year', 'label', 'title_token', 'title_hash', 'title_features', 'artist_terms_arr', 'artist_terms_bow']"
     ]
    }
   ],
   "source": [
    "df_final.columns"
   ]
  },
  {
   "cell_type": "code",
   "execution_count": 44,
   "metadata": {
    "application/vnd.databricks.v1+cell": {
     "inputWidgets": {},
     "nuid": "5fd58d44-1e9d-4584-ade0-44514938d227",
     "showTitle": false,
     "title": ""
    },
    "id": "WnIpicdFbGOv"
   },
   "outputs": [
    {
     "data": {
      "application/vnd.jupyter.widget-view+json": {
       "model_id": "",
       "version_major": 2,
       "version_minor": 0
      },
      "text/plain": [
       "FloatProgress(value=0.0, bar_style='info', description='Progress:', layout=Layout(height='25px', width='50%'),…"
      ]
     },
     "metadata": {},
     "output_type": "display_data"
    },
    {
     "name": "stdout",
     "output_type": "stream",
     "text": [
      "18"
     ]
    }
   ],
   "source": [
    "# assembling vector\n",
    "\n",
    "labels = df_final.select(\"label\")\n",
    "columns_to_drop = [\"label\", \"artist_id\", \"artist_location\", \"artist_name\", \"title\", \"artist_terms\", \"artist_terms_freq\", \n",
    "                   \"artist_terms_weight\", \"song_hotttnesss\", \"title_token\", 'title_hash', 'artist_terms_arr']\n",
    "feature_columns = df_final.drop(*columns_to_drop).columns\n",
    "print(len(feature_columns))\n",
    "\n",
    "assembler = VectorAssembler(inputCols=feature_columns, outputCol='features')\n",
    "df_assembled = assembler.transform(df_final)"
   ]
  },
  {
   "cell_type": "code",
   "execution_count": 45,
   "metadata": {
    "application/vnd.databricks.v1+cell": {
     "inputWidgets": {},
     "nuid": "378f4098-7052-47bd-9af8-cadb54cb133a",
     "showTitle": false,
     "title": ""
    },
    "id": "ZdnoSxLqbGOv"
   },
   "outputs": [
    {
     "data": {
      "application/vnd.jupyter.widget-view+json": {
       "model_id": "",
       "version_major": 2,
       "version_minor": 0
      },
      "text/plain": [
       "FloatProgress(value=0.0, bar_style='info', description='Progress:', layout=Layout(height='25px', width='50%'),…"
      ]
     },
     "metadata": {},
     "output_type": "display_data"
    },
    {
     "name": "stdout",
     "output_type": "stream",
     "text": [
      "   song_hotttnesss  ...                                    scaled_features\n",
      "0         0.634759  ...  [0.606848334612867, -0.5988382111828142, 0.045...\n",
      "1         0.000000  ...  [-1.2533584992486952, -0.9714074398690042, 0.4...\n",
      "2         0.489038  ...  [1.3031372802082413, 0.44108249745073297, 0.66...\n",
      "3         0.376170  ...  [-0.26097021925300806, -0.27589136407190523, 0...\n",
      "4         0.604094  ...  [1.0798277448163633, 1.1638941230968836, -0.37...\n",
      "\n",
      "[5 rows x 32 columns]"
     ]
    }
   ],
   "source": [
    "# scaling\n",
    "scaler = StandardScaler(inputCol='features', outputCol='scaled_features', withStd=True, withMean=True)\n",
    "scaler_model = scaler.fit(df_assembled)\n",
    "df_scaled_features = scaler_model.transform(df_assembled)\n",
    "df_scaled_features.toPandas().head()"
   ]
  },
  {
   "cell_type": "markdown",
   "metadata": {
    "application/vnd.databricks.v1+cell": {
     "inputWidgets": {},
     "nuid": "614933d1-1ab5-49a9-8e93-1e36da2e7f39",
     "showTitle": false,
     "title": ""
    },
    "id": "7AYxB7XMbGOv"
   },
   "source": [
    "Now let's verify the feature vector is of expected length 31."
   ]
  },
  {
   "cell_type": "code",
   "execution_count": 46,
   "metadata": {
    "application/vnd.databricks.v1+cell": {
     "inputWidgets": {},
     "nuid": "b12fbc10-a30c-47f9-a405-4b20c47a4458",
     "showTitle": false,
     "title": ""
    },
    "id": "WWtHDij2bGOv"
   },
   "outputs": [
    {
     "data": {
      "application/vnd.jupyter.widget-view+json": {
       "model_id": "",
       "version_major": 2,
       "version_minor": 0
      },
      "text/plain": [
       "FloatProgress(value=0.0, bar_style='info', description='Progress:', layout=Layout(height='25px', width='50%'),…"
      ]
     },
     "metadata": {},
     "output_type": "display_data"
    },
    {
     "name": "stdout",
     "output_type": "stream",
     "text": [
      "vector len: 31"
     ]
    }
   ],
   "source": [
    "# change your variable/column names accordingly\n",
    "l = df_scaled_features.select('features').take(1)[0].features\n",
    "print('vector len:',len(l))\n",
    "assert len(l) == 31"
   ]
  },
  {
   "cell_type": "markdown",
   "metadata": {
    "application/vnd.databricks.v1+cell": {
     "inputWidgets": {},
     "nuid": "210655de-2f0c-4406-9603-b24f515236a7",
     "showTitle": false,
     "title": ""
    },
    "id": "qiELJKJvbGOv"
   },
   "source": [
    "### 6. Modeling with New Features"
   ]
  },
  {
   "cell_type": "markdown",
   "metadata": {
    "application/vnd.databricks.v1+cell": {
     "inputWidgets": {},
     "nuid": "f65fb59c-7633-4116-aad9-7f4e1e218eec",
     "showTitle": false,
     "title": ""
    },
    "id": "zQD8qUrUbGOv"
   },
   "source": [
    "Now let's fit LR and RF on our new data. As before, first do a train-test split with test ratio 0.2 and seed 10605."
   ]
  },
  {
   "cell_type": "code",
   "execution_count": 47,
   "metadata": {
    "application/vnd.databricks.v1+cell": {
     "inputWidgets": {},
     "nuid": "30ccee50-61a1-4b2a-a71f-7ec982384c37",
     "showTitle": false,
     "title": ""
    },
    "id": "dsXN1DHEbGOw"
   },
   "outputs": [
    {
     "data": {
      "application/vnd.jupyter.widget-view+json": {
       "model_id": "",
       "version_major": 2,
       "version_minor": 0
      },
      "text/plain": [
       "FloatProgress(value=0.0, bar_style='info', description='Progress:', layout=Layout(height='25px', width='50%'),…"
      ]
     },
     "metadata": {},
     "output_type": "display_data"
    }
   ],
   "source": [
    "train_df, test_df = df_scaled_features.randomSplit([0.8, 0.2], seed=10605)"
   ]
  },
  {
   "cell_type": "markdown",
   "metadata": {
    "application/vnd.databricks.v1+cell": {
     "inputWidgets": {},
     "nuid": "9e3bd4f6-c1be-4a8e-8f67-78068a40aa89",
     "showTitle": false,
     "title": ""
    },
    "id": "UVmYHu4jbGOw"
   },
   "source": [
    "Now train the LR and RF model with default hyperparameters."
   ]
  },
  {
   "cell_type": "code",
   "execution_count": 48,
   "metadata": {
    "application/vnd.databricks.v1+cell": {
     "inputWidgets": {},
     "nuid": "e53618df-d85b-4de1-98c9-dbcf8b1bb13a",
     "showTitle": false,
     "title": ""
    },
    "id": "BMIltHGQbGOw"
   },
   "outputs": [
    {
     "data": {
      "application/vnd.jupyter.widget-view+json": {
       "model_id": "",
       "version_major": 2,
       "version_minor": 0
      },
      "text/plain": [
       "FloatProgress(value=0.0, bar_style='info', description='Progress:', layout=Layout(height='25px', width='50%'),…"
      ]
     },
     "metadata": {},
     "output_type": "display_data"
    },
    {
     "name": "stdout",
     "output_type": "stream",
     "text": [
      "(0.7678412512188508, 0.7650874071179582)"
     ]
    }
   ],
   "source": [
    "# Logistic Regression\n",
    "\n",
    "lr = LogisticRegression(labelCol=\"label\", featuresCol=\"scaled_features\")\n",
    "lr_model = lr.fit(train_df)\n",
    "lr_train_predictions = lr_model.transform(train_df)\n",
    "lr_test_predictions = lr_model.transform(test_df)\n",
    "lr_train_auc = auc_eval.evaluate(lr_train_predictions)\n",
    "lr_test_auc = auc_eval.evaluate(lr_test_predictions)\n",
    "lr_train_auc, lr_test_auc"
   ]
  },
  {
   "cell_type": "code",
   "execution_count": 49,
   "metadata": {
    "application/vnd.databricks.v1+cell": {
     "inputWidgets": {},
     "nuid": "2a20b8f0-79ee-4acd-8c9b-a1bb2c064464",
     "showTitle": false,
     "title": ""
    },
    "id": "XW1MkYvibGOw"
   },
   "outputs": [
    {
     "data": {
      "application/vnd.jupyter.widget-view+json": {
       "model_id": "",
       "version_major": 2,
       "version_minor": 0
      },
      "text/plain": [
       "FloatProgress(value=0.0, bar_style='info', description='Progress:', layout=Layout(height='25px', width='50%'),…"
      ]
     },
     "metadata": {},
     "output_type": "display_data"
    },
    {
     "name": "stdout",
     "output_type": "stream",
     "text": [
      "(0.7695628948022044, 0.7682545223293095)"
     ]
    }
   ],
   "source": [
    "# Random Forest\n",
    "rf = RandomForestClassifier(labelCol=\"label\", featuresCol=\"scaled_features\")\n",
    "rf_model = rf.fit(train_df)\n",
    "rf_train_predictions = rf_model.transform(train_df)\n",
    "rf_test_predictions = rf_model.transform(test_df)\n",
    "rf_train_auc = auc_eval.evaluate(rf_train_predictions)\n",
    "rf_test_auc = auc_eval.evaluate(rf_test_predictions)\n",
    "rf_train_auc, rf_test_auc"
   ]
  },
  {
   "cell_type": "markdown",
   "metadata": {
    "application/vnd.databricks.v1+cell": {
     "inputWidgets": {},
     "nuid": "d848886b-1e65-4482-9a04-44c8ee5d3c36",
     "showTitle": false,
     "title": ""
    },
    "id": "LPiEUwnfbGOw"
   },
   "source": [
    "Recall that AUC is the area under the ROC curve. Now, plot the ROC curves for the four models (including two baselines) in one single plot. "
   ]
  },
  {
   "cell_type": "code",
   "execution_count": 50,
   "metadata": {
    "application/vnd.databricks.v1+cell": {
     "inputWidgets": {},
     "nuid": "73b7752e-0cb6-4657-ac53-73eeeaabe9b3",
     "showTitle": false,
     "title": ""
    },
    "id": "6unBCK-rbGOw"
   },
   "outputs": [
    {
     "data": {
      "application/vnd.jupyter.widget-view+json": {
       "model_id": "",
       "version_major": 2,
       "version_minor": 0
      },
      "text/plain": [
       "FloatProgress(value=0.0, bar_style='info', description='Progress:', layout=Layout(height='25px', width='50%'),…"
      ]
     },
     "metadata": {},
     "output_type": "display_data"
    },
    {
     "data": {
      "image/png": "[encoded data removed]",
      "text/plain": [
       "<IPython.core.display.Image object>"
      ]
     },
     "metadata": {},
     "output_type": "display_data"
    }
   ],
   "source": [
    "plt.clf()\n",
    "lrfpr_basic = [item['FPR'] for item in lr_model_basic.summary.roc.select('FPR').collect()]\n",
    "lrtpr_basic = [item['TPR'] for item in lr_model_basic.summary.roc.select('TPR').collect()]\n",
    "plt.plot(lrfpr_basic, lrtpr_basic, label='LR_Basic')\n",
    "\n",
    "rffpr_basic = [item['FPR'] for item in rf_model_basic.summary.roc.select('FPR').collect()]\n",
    "rftpr_basic = [item['TPR'] for item in rf_model_basic.summary.roc.select('TPR').collect()]\n",
    "plt.plot(rffpr_basic, rftpr_basic, label='RF_basic')\n",
    "\n",
    "lrfpr = [item['FPR'] for item in lr_model.summary.roc.select('FPR').collect()]\n",
    "lrtpr = [item['TPR'] for item in lr_model.summary.roc.select('TPR').collect()]\n",
    "plt.plot(lrfpr, lrtpr, label='LR_Final')\n",
    "\n",
    "rffpr = [item['FPR'] for item in rf_model.summary.roc.select('FPR').collect()]\n",
    "rftpr = [item['TPR'] for item in rf_model.summary.roc.select('TPR').collect()]\n",
    "plt.plot(rffpr, rftpr, label='RF_basic')\n",
    "\n",
    "plt.title('ROC Curve Comparison')\n",
    "plt.xlabel('False Positive Rate (FPR)')\n",
    "plt.ylabel('True Positive Rate (TPR)')\n",
    "plt.legend()\n",
    "\n",
    "%matplot plt"
   ]
  },
  {
   "cell_type": "markdown",
   "metadata": {
    "application/vnd.databricks.v1+cell": {
     "inputWidgets": {},
     "nuid": "c48783f2-5004-492e-b286-e0e879c6173c",
     "showTitle": false,
     "title": ""
    },
    "id": "64qRWzqSbGOw"
   },
   "source": [
    "### 7. Do Better"
   ]
  },
  {
   "cell_type": "markdown",
   "metadata": {
    "application/vnd.databricks.v1+cell": {
     "inputWidgets": {},
     "nuid": "e42bf942-1ab5-460a-a96c-bafaf5cbc2a1",
     "showTitle": false,
     "title": ""
    },
    "id": "bU6JcYWybGOw"
   },
   "source": [
    "Now lets include more of the initial data that we originally cleaned out and see if we can do better!"
   ]
  },
  {
   "cell_type": "code",
   "execution_count": 51,
   "metadata": {},
   "outputs": [
    {
     "data": {
      "application/vnd.jupyter.widget-view+json": {
       "model_id": "",
       "version_major": 2,
       "version_minor": 0
      },
      "text/plain": [
       "FloatProgress(value=0.0, bar_style='info', description='Progress:', layout=Layout(height='25px', width='50%'),…"
      ]
     },
     "metadata": {},
     "output_type": "display_data"
    }
   ],
   "source": [
    "from pyspark.sql.functions import mean\n",
    "\n",
    "mean_value = df.filter(col('year') > 0).select(mean(col('year'))).collect()[0][0]\n",
    "df_with_mean = df.withColumn('year', when(col('year') == 0, mean_value).otherwise(col('year')))\n",
    "\n",
    "# mean_value = df_with_mean.filter(~isnan(col('artist_latitude'))).select(mean(col('artist_latitude'))).collect()[0][0]\n",
    "# df_with_mean = df_with_mean.withColumn('artist_latitude', when(isnan(col('artist_latitude')), mean_value).otherwise(col('artist_latitude')))\n",
    "\n",
    "# mean_value = df_with_mean.filter(~col('artist_longitude').isNull()).select(mean(col('artist_longitude'))).collect()[0][0]\n",
    "# df_with_mean = df_with_mean.withColumn('artist_longitude', when(isnan(col('artist_longitude')), mean_value).otherwise(col('artist_longitude')))\n",
    "                                 \n",
    "                        \n",
    "mean_value = df_with_mean.filter(~col('artist_latitude').isin(float('nan'))).select(mean(col('artist_latitude'))).collect()[0][0]\n",
    "df_with_mean = df_with_mean.withColumn('artist_latitude', when(col('artist_latitude').isin(float('nan')), mean_value).otherwise(col('artist_latitude')))\n",
    "                                \n",
    "mean_value = df_with_mean.filter(~col('artist_longitude').isin(float('nan'))).select(mean(col('artist_longitude'))).collect()[0][0]\n",
    "df_with_mean = df_with_mean.withColumn('artist_longitude', when(col('artist_longitude').isin(float('nan')), mean_value).otherwise(col('artist_longitude')))\n",
    "                                    \n",
    "\n",
    "cleaned_df = df_with_mean.filter(~isnan(df['artist_familiarity']))\n",
    "cleaned_df = cleaned_df.filter(~isnan(df['title']))\n",
    "cleaned_df = cleaned_df.filter(~isnull(df['title']))\n",
    "\n",
    "average_hotttness = cleaned_df.select(avg('song_hotttnesss')).collect()[0][0]\n",
    "df_with_label = cleaned_df.withColumn('label', when(col('song_hotttnesss') > average_hotttness, 1).otherwise(0))\n",
    "\n",
    "min_year = df_with_label.select(min('year')).first()[0]\n",
    "df_shifted_year = df_with_label.withColumn('year', col('year') - min_year)\n",
    "df_shifted_year = df_shifted_year.drop(\"artist_location\")"
   ]
  },
  {
   "cell_type": "code",
   "execution_count": 52,
   "metadata": {},
   "outputs": [
    {
     "data": {
      "application/vnd.jupyter.widget-view+json": {
       "model_id": "",
       "version_major": 2,
       "version_minor": 0
      },
      "text/plain": [
       "FloatProgress(value=0.0, bar_style='info', description='Progress:', layout=Layout(height='25px', width='50%'),…"
      ]
     },
     "metadata": {},
     "output_type": "display_data"
    },
    {
     "name": "stdout",
     "output_type": "stream",
     "text": [
      "NaN count for song_hotttnesss: 0\n",
      "NaN count for artist_familiarity: 0\n",
      "NaN count for artist_hotttnesss: 0\n",
      "NaN count for artist_id: 0\n",
      "NaN count for artist_latitude: 0\n",
      "NaN count for artist_longitude: 0\n",
      "NaN count for artist_name: 0\n",
      "NaN count for title: 0\n",
      "NaN count for danceability: 0\n",
      "NaN count for duration: 0\n",
      "NaN count for end_of_fade_in: 0\n",
      "NaN count for energy: 0\n",
      "NaN count for key: 0\n",
      "NaN count for key_confidence: 0\n",
      "NaN count for loudness: 0\n",
      "NaN count for mode: 0\n",
      "NaN count for mode_confidence: 0\n",
      "NaN count for start_of_fade_out: 0\n",
      "NaN count for tempo: 0\n",
      "NaN count for time_signature: 0\n",
      "NaN count for time_signature_confidence: 0\n",
      "NaN count for artist_terms: 0\n",
      "NaN count for artist_terms_freq: 0\n",
      "NaN count for artist_terms_weight: 0\n",
      "NaN count for year: 0\n",
      "NaN count for label: 0"
     ]
    }
   ],
   "source": [
    "for column in df_shifted_year.columns:\n",
    "    nan_count = df_shifted_year.select(count(when(isnull(column), column))).collect()[0][0]\n",
    "    print(f\"NaN count for {column}: {nan_count}\")"
   ]
  },
  {
   "cell_type": "code",
   "execution_count": 53,
   "metadata": {},
   "outputs": [
    {
     "data": {
      "application/vnd.jupyter.widget-view+json": {
       "model_id": "",
       "version_major": 2,
       "version_minor": 0
      },
      "text/plain": [
       "FloatProgress(value=0.0, bar_style='info', description='Progress:', layout=Layout(height='25px', width='50%'),…"
      ]
     },
     "metadata": {},
     "output_type": "display_data"
    }
   ],
   "source": [
    "TF_IDF_NUM_FEATS = 8 # HashingTF(..., numFeatures=TF_IDF_NUM_FEATS)\n",
    "\n",
    "tokenizer = Tokenizer(inputCol=\"title\", outputCol=\"title_token\")\n",
    "token_df = tokenizer.transform(df_shifted_year)\n",
    "\n",
    "hashing_tf = HashingTF(inputCol=\"title_token\", outputCol=\"title_hash\", numFeatures=TF_IDF_NUM_FEATS)\n",
    "hashed_df = hashing_tf.transform(token_df)\n",
    "\n",
    "idf = IDF(inputCol=\"title_hash\", outputCol=\"title_features\")\n",
    "idf_model = idf.fit(hashed_df)\n",
    "df_tf_idf = idf_model.transform(hashed_df)\n",
    "\n",
    "tokenizer = Tokenizer(inputCol=\"artist_terms\", outputCol=\"artist_token\")\n",
    "token_df = tokenizer.transform(df_tf_idf)\n",
    "\n",
    "hashing_tf = HashingTF(inputCol=\"artist_token\", outputCol=\"artist_hash\", numFeatures=TF_IDF_NUM_FEATS)\n",
    "hashed_df = hashing_tf.transform(token_df)\n",
    "\n",
    "idf = IDF(inputCol=\"artist_hash\", outputCol=\"artist_features\")\n",
    "idf_model = idf.fit(hashed_df)\n",
    "df_final = idf_model.transform(hashed_df)\n",
    "\n",
    "labels = df_final.select(\"label\")\n",
    "columns_to_drop = [\"label\", \"artist_id\", \"artist_location\", \"artist_name\", \"title\", \"artist_terms\", \"artist_terms_freq\", \n",
    "                   \"artist_terms_weight\", \"song_hotttnesss\", \"title_token\", 'title_hash', 'artist_token', \"artist_hash\"]\n",
    "feature_columns = df_final.drop(*columns_to_drop).columns\n",
    "\n",
    "assembler = VectorAssembler(inputCols=feature_columns, outputCol='features')\n",
    "df_assembled = assembler.transform(df_final)\n",
    "\n",
    "\n",
    "scaler = StandardScaler(inputCol='features', outputCol='scaled_features', withStd=True, withMean=True)\n",
    "scaler_model = scaler.fit(df_assembled)\n",
    "df_scaled_features = scaler_model.transform(df_assembled)\n",
    "\n",
    "train_df, test_df = df_scaled_features.randomSplit([0.8, 0.2], seed=10605)"
   ]
  },
  {
   "cell_type": "code",
   "execution_count": 54,
   "metadata": {
    "application/vnd.databricks.v1+cell": {
     "inputWidgets": {},
     "nuid": "44ae4071-492f-418b-9c26-9f484730e6ed",
     "showTitle": false,
     "title": ""
    },
    "id": "LdqjloDQbGOw"
   },
   "outputs": [
    {
     "data": {
      "application/vnd.jupyter.widget-view+json": {
       "model_id": "",
       "version_major": 2,
       "version_minor": 0
      },
      "text/plain": [
       "FloatProgress(value=0.0, bar_style='info', description='Progress:', layout=Layout(height='25px', width='50%'),…"
      ]
     },
     "metadata": {},
     "output_type": "display_data"
    },
    {
     "name": "stdout",
     "output_type": "stream",
     "text": [
      "(0.7944492542170315, 0.7939192057400779)"
     ]
    }
   ],
   "source": [
    "final_rf = RandomForestClassifier(labelCol=\"label\", featuresCol=\"scaled_features\", maxDepth=10, numTrees=25)\n",
    "final_rf_model = final_rf.fit(train_df)\n",
    "final_rf_train_predictions = final_rf_model.transform(train_df)\n",
    "final_rf_test_predictions = final_rf_model.transform(test_df)\n",
    "final_rf_train_auc = auc_eval.evaluate(final_rf_train_predictions)\n",
    "final_rf_test_auc = auc_eval.evaluate(final_rf_test_predictions)\n",
    "final_rf_train_auc, final_rf_test_auc"
   ]
  },
  {
   "cell_type": "markdown",
   "metadata": {},
   "source": [
    "Lets try the GBTClassifier from pyspark"
   ]
  },
  {
   "cell_type": "code",
   "execution_count": 61,
   "metadata": {},
   "outputs": [
    {
     "data": {
      "application/vnd.jupyter.widget-view+json": {
       "model_id": "",
       "version_major": 2,
       "version_minor": 0
      },
      "text/plain": [
       "FloatProgress(value=0.0, bar_style='info', description='Progress:', layout=Layout(height='25px', width='50%'),…"
      ]
     },
     "metadata": {},
     "output_type": "display_data"
    },
    {
     "name": "stdout",
     "output_type": "stream",
     "text": [
      "(0.9377632247952638, 0.8603280150788746)"
     ]
    }
   ],
   "source": [
    "from pyspark.ml.classification import GBTClassifier\n",
    "\n",
    "final_rf = GBTClassifier(labelCol=\"label\", featuresCol=\"scaled_features\", maxDepth=12, maxIter=60)\n",
    "final_rf_model = final_rf.fit(train_df)\n",
    "final_rf_train_predictions = final_rf_model.transform(train_df)\n",
    "final_rf_test_predictions = final_rf_model.transform(test_df)\n",
    "final_rf_train_auc = auc_eval.evaluate(final_rf_train_predictions)\n",
    "final_rf_test_auc = auc_eval.evaluate(final_rf_test_predictions)\n",
    "final_rf_train_auc, final_rf_test_auc"
   ]
  },
  {
   "cell_type": "markdown",
   "metadata": {},
   "source": [
    "We acheived a significantly higher AUC as compared to the simple models with less data. This shows the power of more data and the right models!"
   ]
  }
 ],
 "metadata": {
  "application/vnd.databricks.v1+notebook": {
   "dashboards": [],
   "language": "python",
   "notebookMetadata": {
    "pythonIndentUnit": 2
   },
   "notebookName": "HW4",
   "notebookOrigID": 379635546166569,
   "widgets": {}
  },
  "colab": {
   "name": "HW4.ipynb",
   "provenance": []
  },
  "kernelspec": {
   "display_name": "PySpark",
   "language": "python",
   "name": "pysparkkernel"
  },
  "language_info": {
   "codemirror_mode": {
    "name": "python",
    "version": 3
   },
   "file_extension": ".py",
   "mimetype": "text/x-python",
   "name": "pyspark",
   "pygments_lexer": "python3"
  }
 },
 "nbformat": 4,
 "nbformat_minor": 2
}
